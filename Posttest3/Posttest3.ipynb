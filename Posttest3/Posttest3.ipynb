{
 "cells": [
  {
   "cell_type": "code",
   "execution_count": null,
   "id": "bfc28a23-cba6-4038-9b35-c7d60248bf79",
   "metadata": {},
   "outputs": [],
   "source": [
    "import pandas as pd\n",
    "import numpy as np\n",
    "import matplotlib.pyplot as plt\n",
    "import seaborn as sns\n",
    "from sklearn.preprocessing import StandardScaler, LabelEncoder\n",
    "from sklearn.model_selection import train_test_split"
   ]
  },
  {
   "cell_type": "code",
   "execution_count": 4,
   "id": "3edf4cbd-84d3-4f14-90bc-0cf6d54649ef",
   "metadata": {},
   "outputs": [
    {
     "data": {
      "text/html": [
       "<div>\n",
       "<style scoped>\n",
       "    .dataframe tbody tr th:only-of-type {\n",
       "        vertical-align: middle;\n",
       "    }\n",
       "\n",
       "    .dataframe tbody tr th {\n",
       "        vertical-align: top;\n",
       "    }\n",
       "\n",
       "    .dataframe thead th {\n",
       "        text-align: right;\n",
       "    }\n",
       "</style>\n",
       "<table border=\"1\" class=\"dataframe\">\n",
       "  <thead>\n",
       "    <tr style=\"text-align: right;\">\n",
       "      <th></th>\n",
       "      <th>order_id</th>\n",
       "      <th>order_date</th>\n",
       "      <th>ship_date</th>\n",
       "      <th>ship_mode</th>\n",
       "      <th>customer_name</th>\n",
       "      <th>segment</th>\n",
       "      <th>state</th>\n",
       "      <th>country</th>\n",
       "      <th>market</th>\n",
       "      <th>region</th>\n",
       "      <th>...</th>\n",
       "      <th>category</th>\n",
       "      <th>sub_category</th>\n",
       "      <th>product_name</th>\n",
       "      <th>sales</th>\n",
       "      <th>quantity</th>\n",
       "      <th>discount</th>\n",
       "      <th>profit</th>\n",
       "      <th>shipping_cost</th>\n",
       "      <th>order_priority</th>\n",
       "      <th>year</th>\n",
       "    </tr>\n",
       "  </thead>\n",
       "  <tbody>\n",
       "    <tr>\n",
       "      <th>0</th>\n",
       "      <td>AG-2011-2040</td>\n",
       "      <td>1/1/2011</td>\n",
       "      <td>6/1/2011</td>\n",
       "      <td>Standard Class</td>\n",
       "      <td>Toby Braunhardt</td>\n",
       "      <td>Consumer</td>\n",
       "      <td>Constantine</td>\n",
       "      <td>Algeria</td>\n",
       "      <td>Africa</td>\n",
       "      <td>Africa</td>\n",
       "      <td>...</td>\n",
       "      <td>Office Supplies</td>\n",
       "      <td>Storage</td>\n",
       "      <td>Tenex Lockers, Blue</td>\n",
       "      <td>408</td>\n",
       "      <td>2</td>\n",
       "      <td>0.0</td>\n",
       "      <td>106.140</td>\n",
       "      <td>35.46</td>\n",
       "      <td>Medium</td>\n",
       "      <td>2011</td>\n",
       "    </tr>\n",
       "    <tr>\n",
       "      <th>1</th>\n",
       "      <td>IN-2011-47883</td>\n",
       "      <td>1/1/2011</td>\n",
       "      <td>8/1/2011</td>\n",
       "      <td>Standard Class</td>\n",
       "      <td>Joseph Holt</td>\n",
       "      <td>Consumer</td>\n",
       "      <td>New South Wales</td>\n",
       "      <td>Australia</td>\n",
       "      <td>APAC</td>\n",
       "      <td>Oceania</td>\n",
       "      <td>...</td>\n",
       "      <td>Office Supplies</td>\n",
       "      <td>Supplies</td>\n",
       "      <td>Acme Trimmer, High Speed</td>\n",
       "      <td>120</td>\n",
       "      <td>3</td>\n",
       "      <td>0.1</td>\n",
       "      <td>36.036</td>\n",
       "      <td>9.72</td>\n",
       "      <td>Medium</td>\n",
       "      <td>2011</td>\n",
       "    </tr>\n",
       "    <tr>\n",
       "      <th>2</th>\n",
       "      <td>HU-2011-1220</td>\n",
       "      <td>1/1/2011</td>\n",
       "      <td>5/1/2011</td>\n",
       "      <td>Second Class</td>\n",
       "      <td>Annie Thurman</td>\n",
       "      <td>Consumer</td>\n",
       "      <td>Budapest</td>\n",
       "      <td>Hungary</td>\n",
       "      <td>EMEA</td>\n",
       "      <td>EMEA</td>\n",
       "      <td>...</td>\n",
       "      <td>Office Supplies</td>\n",
       "      <td>Storage</td>\n",
       "      <td>Tenex Box, Single Width</td>\n",
       "      <td>66</td>\n",
       "      <td>4</td>\n",
       "      <td>0.0</td>\n",
       "      <td>29.640</td>\n",
       "      <td>8.17</td>\n",
       "      <td>High</td>\n",
       "      <td>2011</td>\n",
       "    </tr>\n",
       "    <tr>\n",
       "      <th>3</th>\n",
       "      <td>IT-2011-3647632</td>\n",
       "      <td>1/1/2011</td>\n",
       "      <td>5/1/2011</td>\n",
       "      <td>Second Class</td>\n",
       "      <td>Eugene Moren</td>\n",
       "      <td>Home Office</td>\n",
       "      <td>Stockholm</td>\n",
       "      <td>Sweden</td>\n",
       "      <td>EU</td>\n",
       "      <td>North</td>\n",
       "      <td>...</td>\n",
       "      <td>Office Supplies</td>\n",
       "      <td>Paper</td>\n",
       "      <td>Enermax Note Cards, Premium</td>\n",
       "      <td>45</td>\n",
       "      <td>3</td>\n",
       "      <td>0.5</td>\n",
       "      <td>-26.055</td>\n",
       "      <td>4.82</td>\n",
       "      <td>High</td>\n",
       "      <td>2011</td>\n",
       "    </tr>\n",
       "    <tr>\n",
       "      <th>4</th>\n",
       "      <td>IN-2011-47883</td>\n",
       "      <td>1/1/2011</td>\n",
       "      <td>8/1/2011</td>\n",
       "      <td>Standard Class</td>\n",
       "      <td>Joseph Holt</td>\n",
       "      <td>Consumer</td>\n",
       "      <td>New South Wales</td>\n",
       "      <td>Australia</td>\n",
       "      <td>APAC</td>\n",
       "      <td>Oceania</td>\n",
       "      <td>...</td>\n",
       "      <td>Furniture</td>\n",
       "      <td>Furnishings</td>\n",
       "      <td>Eldon Light Bulb, Duo Pack</td>\n",
       "      <td>114</td>\n",
       "      <td>5</td>\n",
       "      <td>0.1</td>\n",
       "      <td>37.770</td>\n",
       "      <td>4.70</td>\n",
       "      <td>Medium</td>\n",
       "      <td>2011</td>\n",
       "    </tr>\n",
       "  </tbody>\n",
       "</table>\n",
       "<p>5 rows × 21 columns</p>\n",
       "</div>"
      ],
      "text/plain": [
       "          order_id order_date ship_date       ship_mode    customer_name  \\\n",
       "0     AG-2011-2040   1/1/2011  6/1/2011  Standard Class  Toby Braunhardt   \n",
       "1    IN-2011-47883   1/1/2011  8/1/2011  Standard Class      Joseph Holt   \n",
       "2     HU-2011-1220   1/1/2011  5/1/2011    Second Class    Annie Thurman   \n",
       "3  IT-2011-3647632   1/1/2011  5/1/2011    Second Class     Eugene Moren   \n",
       "4    IN-2011-47883   1/1/2011  8/1/2011  Standard Class      Joseph Holt   \n",
       "\n",
       "       segment            state    country  market   region  ...  \\\n",
       "0     Consumer      Constantine    Algeria  Africa   Africa  ...   \n",
       "1     Consumer  New South Wales  Australia    APAC  Oceania  ...   \n",
       "2     Consumer         Budapest    Hungary    EMEA     EMEA  ...   \n",
       "3  Home Office        Stockholm     Sweden      EU    North  ...   \n",
       "4     Consumer  New South Wales  Australia    APAC  Oceania  ...   \n",
       "\n",
       "          category sub_category                 product_name sales quantity  \\\n",
       "0  Office Supplies      Storage          Tenex Lockers, Blue   408        2   \n",
       "1  Office Supplies     Supplies     Acme Trimmer, High Speed   120        3   \n",
       "2  Office Supplies      Storage      Tenex Box, Single Width    66        4   \n",
       "3  Office Supplies        Paper  Enermax Note Cards, Premium    45        3   \n",
       "4        Furniture  Furnishings   Eldon Light Bulb, Duo Pack   114        5   \n",
       "\n",
       "   discount   profit  shipping_cost  order_priority  year  \n",
       "0       0.0  106.140          35.46          Medium  2011  \n",
       "1       0.1   36.036           9.72          Medium  2011  \n",
       "2       0.0   29.640           8.17            High  2011  \n",
       "3       0.5  -26.055           4.82            High  2011  \n",
       "4       0.1   37.770           4.70          Medium  2011  \n",
       "\n",
       "[5 rows x 21 columns]"
      ]
     },
     "execution_count": 4,
     "metadata": {},
     "output_type": "execute_result"
    }
   ],
   "source": [
    "df = pd.read_csv(\"SuperStoreOrders.csv\")\n",
    "df.head()"
   ]
  },
  {
   "cell_type": "markdown",
   "id": "7ab2b31e-7608-4363-b1c7-f2e3eb99a9aa",
   "metadata": {},
   "source": [
    "# 1. Data Cleaning\n",
    "\n",
    "## Tahap ini bertujuan untuk membersihkan data sebelum dilakukan analisis lebih lanjut.  \n",
    "## Langkah-langkah utama yang dilakukan meliputi:\n",
    "## 1. Menangani nilai kosong (missing value)\n",
    "## 2. Menghapus data duplikat\n",
    "## 3. Menghapus data outlier"
   ]
  },
  {
   "cell_type": "code",
   "execution_count": 15,
   "id": "be4c937c-af77-4331-b6eb-4fed199d7105",
   "metadata": {
    "scrolled": true
   },
   "outputs": [
    {
     "name": "stdout",
     "output_type": "stream",
     "text": [
      "Jumlah Missing Value Sebelum Penanganan:\n",
      "\n",
      "order_id          0\n",
      "order_date        0\n",
      "ship_date         0\n",
      "ship_mode         0\n",
      "customer_name     0\n",
      "segment           0\n",
      "state             0\n",
      "country           0\n",
      "market            0\n",
      "region            0\n",
      "product_id        0\n",
      "category          0\n",
      "sub_category      0\n",
      "product_name      0\n",
      "sales             0\n",
      "quantity          0\n",
      "discount          0\n",
      "profit            0\n",
      "shipping_cost     0\n",
      "order_priority    0\n",
      "year              0\n",
      "dtype: int64\n",
      "\n",
      "Jumlah Missing Value Setelah Penanganan:\n",
      "\n",
      "order_id          0\n",
      "order_date        0\n",
      "ship_date         0\n",
      "ship_mode         0\n",
      "customer_name     0\n",
      "segment           0\n",
      "state             0\n",
      "country           0\n",
      "market            0\n",
      "region            0\n",
      "product_id        0\n",
      "category          0\n",
      "sub_category      0\n",
      "product_name      0\n",
      "sales             0\n",
      "quantity          0\n",
      "discount          0\n",
      "profit            0\n",
      "shipping_cost     0\n",
      "order_priority    0\n",
      "year              0\n",
      "dtype: int64\n"
     ]
    }
   ],
   "source": [
    "# Mengecek jumlah missing value pada setiap kolom\n",
    "print(\"Jumlah Missing Value Sebelum Penanganan:\\n\")\n",
    "print(df.isnull().sum())\n",
    "\n",
    "# Menangani missing value dengan mengisi median (untuk kolom numerik)\n",
    "df.fillna(df.median(numeric_only=True), inplace=True)\n",
    "\n",
    "print(\"\\nJumlah Missing Value Setelah Penanganan:\\n\")\n",
    "print(df.isnull().sum())"
   ]
  },
  {
   "cell_type": "code",
   "execution_count": 16,
   "id": "49ab37d6-e04f-4fef-92bb-bfb493934980",
   "metadata": {},
   "outputs": [
    {
     "name": "stdout",
     "output_type": "stream",
     "text": [
      "Jumlah Data Duplikat Sebelum Dihapus: 0\n",
      "Jumlah Data Duplikat Setelah Dihapus: 0\n"
     ]
    }
   ],
   "source": [
    "# Mengecek jumlah data duplikat\n",
    "print(f\"Jumlah Data Duplikat Sebelum Dihapus: {df.duplicated().sum()}\")\n",
    "\n",
    "# Menghapus duplikat\n",
    "df.drop_duplicates(inplace=True)\n",
    "\n",
    "# Mengecek ulang\n",
    "print(f\"Jumlah Data Duplikat Setelah Dihapus: {df.duplicated().sum()}\")"
   ]
  },
  {
   "cell_type": "code",
   "execution_count": 17,
   "id": "12183923-cdaa-45a3-b9fd-073d5fa11558",
   "metadata": {},
   "outputs": [
    {
     "name": "stdout",
     "output_type": "stream",
     "text": [
      "Visualisasi Boxplot Sebelum Penanganan Outlier:\n",
      "\n"
     ]
    },
    {
     "data": {
      "image/png": "[encoded data removed]",
      "text/plain": [
       "<Figure size 640x480 with 1 Axes>"
      ]
     },
     "metadata": {},
     "output_type": "display_data"
    },
    {
     "data": {
      "image/png": "[encoded data removed]",
      "text/plain": [
       "<Figure size 640x480 with 1 Axes>"
      ]
     },
     "metadata": {},
     "output_type": "display_data"
    },
    {
     "data": {
      "image/png": "[encoded data removed]",
      "text/plain": [
       "<Figure size 640x480 with 1 Axes>"
      ]
     },
     "metadata": {},
     "output_type": "display_data"
    },
    {
     "data": {
      "image/png": "[encoded data removed]",
      "text/plain": [
       "<Figure size 640x480 with 1 Axes>"
      ]
     },
     "metadata": {},
     "output_type": "display_data"
    },
    {
     "data": {
      "image/png": "[encoded data removed]",
      "text/plain": [
       "<Figure size 640x480 with 1 Axes>"
      ]
     },
     "metadata": {},
     "output_type": "display_data"
    },
    {
     "name": "stdout",
     "output_type": "stream",
     "text": [
      "Data setelah outlier dihapus.\n",
      "\n",
      "Jumlah Data Sekarang: 25698 baris\n",
      "\n",
      "Visualisasi Boxplot Setelah Penanganan Outlier:\n",
      "\n"
     ]
    },
    {
     "data": {
      "image/png": "[encoded data removed]",
      "text/plain": [
       "<Figure size 640x480 with 1 Axes>"
      ]
     },
     "metadata": {},
     "output_type": "display_data"
    },
    {
     "data": {
      "image/png": "[encoded data removed]",
      "text/plain": [
       "<Figure size 640x480 with 1 Axes>"
      ]
     },
     "metadata": {},
     "output_type": "display_data"
    },
    {
     "data": {
      "image/png": "[encoded data removed]",
      "text/plain": [
       "<Figure size 640x480 with 1 Axes>"
      ]
     },
     "metadata": {},
     "output_type": "display_data"
    },
    {
     "data": {
      "image/png": "[encoded data removed]",
      "text/plain": [
       "<Figure size 640x480 with 1 Axes>"
      ]
     },
     "metadata": {},
     "output_type": "display_data"
    },
    {
     "data": {
      "image/png": "[encoded data removed]",
      "text/plain": [
       "<Figure size 640x480 with 1 Axes>"
      ]
     },
     "metadata": {},
     "output_type": "display_data"
    }
   ],
   "source": [
    "# Menampilkan boxplot untuk mendeteksi outlier\n",
    "numeric_cols = df.select_dtypes(include=np.number).columns\n",
    "\n",
    "print(\"Visualisasi Boxplot Sebelum Penanganan Outlier:\\n\")\n",
    "for col in numeric_cols:\n",
    "    plt.figure()\n",
    "    sns.boxplot(df[col])\n",
    "    plt.title(f'Boxplot Sebelum - {col}')\n",
    "    plt.show()\n",
    "\n",
    "# Menghapus outlier menggunakan metode IQR\n",
    "Q1 = df[numeric_cols].quantile(0.25)\n",
    "Q3 = df[numeric_cols].quantile(0.75)\n",
    "IQR = Q3 - Q1\n",
    "\n",
    "df = df[~((df[numeric_cols] < (Q1 - 1.5 * IQR)) | \n",
    "          (df[numeric_cols] > (Q3 + 1.5 * IQR))).any(axis=1)]\n",
    "\n",
    "print(\"Data setelah outlier dihapus.\\n\")\n",
    "print(f\"Jumlah Data Sekarang: {df.shape[0]} baris\")\n",
    "\n",
    "print(\"\\nVisualisasi Boxplot Setelah Penanganan Outlier:\\n\")\n",
    "for col in numeric_cols:\n",
    "    plt.figure()\n",
    "    sns.boxplot(df[col])\n",
    "    plt.title(f'Boxplot Sesudah - {col}')\n",
    "    plt.show()\n"
   ]
  },
  {
   "cell_type": "markdown",
   "id": "f7a34d16-fd28-482d-a2f3-1934af9689ff",
   "metadata": {},
   "source": [
    "# 2. Normalisasi / Standarisasi Kolom Numerik\n",
    "\n",
    "## Menstandarkan semua kolom numerik agar memiliki skala seragam (mean = 0, std = 1).\n",
    "## Hal ini penting supaya fitur dengan skala besar tidak mendominasi fitur lainnya."
   ]
  },
  {
   "cell_type": "code",
   "execution_count": 18,
   "id": "a6d1f08a-5a1a-454a-acb6-7ee3d4da3406",
   "metadata": {},
   "outputs": [
    {
     "name": "stdout",
     "output_type": "stream",
     "text": [
      "5 Data Teratas Setelah Standarisasi:\n"
     ]
    },
    {
     "data": {
      "text/html": [
       "<div>\n",
       "<style scoped>\n",
       "    .dataframe tbody tr th:only-of-type {\n",
       "        vertical-align: middle;\n",
       "    }\n",
       "\n",
       "    .dataframe tbody tr th {\n",
       "        vertical-align: top;\n",
       "    }\n",
       "\n",
       "    .dataframe thead th {\n",
       "        text-align: right;\n",
       "    }\n",
       "</style>\n",
       "<table border=\"1\" class=\"dataframe\">\n",
       "  <thead>\n",
       "    <tr style=\"text-align: right;\">\n",
       "      <th></th>\n",
       "      <th>quantity</th>\n",
       "      <th>discount</th>\n",
       "      <th>profit</th>\n",
       "      <th>shipping_cost</th>\n",
       "      <th>year</th>\n",
       "    </tr>\n",
       "  </thead>\n",
       "  <tbody>\n",
       "    <tr>\n",
       "      <th>1</th>\n",
       "      <td>0.148878</td>\n",
       "      <td>0.282149</td>\n",
       "      <td>2.244170</td>\n",
       "      <td>0.928738</td>\n",
       "      <td>-1.620693</td>\n",
       "    </tr>\n",
       "    <tr>\n",
       "      <th>2</th>\n",
       "      <td>0.783769</td>\n",
       "      <td>-0.568293</td>\n",
       "      <td>1.693216</td>\n",
       "      <td>0.598565</td>\n",
       "      <td>-1.620693</td>\n",
       "    </tr>\n",
       "    <tr>\n",
       "      <th>4</th>\n",
       "      <td>1.418661</td>\n",
       "      <td>0.282149</td>\n",
       "      <td>2.393537</td>\n",
       "      <td>-0.140598</td>\n",
       "      <td>-1.620693</td>\n",
       "    </tr>\n",
       "    <tr>\n",
       "      <th>5</th>\n",
       "      <td>-0.486014</td>\n",
       "      <td>0.282149</td>\n",
       "      <td>0.461581</td>\n",
       "      <td>-0.758342</td>\n",
       "      <td>-1.620693</td>\n",
       "    </tr>\n",
       "    <tr>\n",
       "      <th>16</th>\n",
       "      <td>-0.486014</td>\n",
       "      <td>-0.568293</td>\n",
       "      <td>2.835437</td>\n",
       "      <td>0.649688</td>\n",
       "      <td>-1.620693</td>\n",
       "    </tr>\n",
       "  </tbody>\n",
       "</table>\n",
       "</div>"
      ],
      "text/plain": [
       "    quantity  discount    profit  shipping_cost      year\n",
       "1   0.148878  0.282149  2.244170       0.928738 -1.620693\n",
       "2   0.783769 -0.568293  1.693216       0.598565 -1.620693\n",
       "4   1.418661  0.282149  2.393537      -0.140598 -1.620693\n",
       "5  -0.486014  0.282149  0.461581      -0.758342 -1.620693\n",
       "16 -0.486014 -0.568293  2.835437       0.649688 -1.620693"
      ]
     },
     "metadata": {},
     "output_type": "display_data"
    }
   ],
   "source": [
    "from sklearn.preprocessing import StandardScaler\n",
    "\n",
    "# Menentukan kolom numerik (selain target 'sales')\n",
    "num_cols = df.select_dtypes(include=np.number).columns.drop('sales', errors='ignore')\n",
    "\n",
    "# Inisialisasi scaler\n",
    "scaler = StandardScaler()\n",
    "\n",
    "# Simpan hasil ke dataframe baru\n",
    "df[num_cols] = scaler.fit_transform(df[num_cols])\n",
    "\n",
    "print(\"5 Data Teratas Setelah Standarisasi:\")\n",
    "display(df[num_cols].head())"
   ]
  },
  {
   "cell_type": "markdown",
   "id": "2cc8d3a2-c129-4644-af3d-ff9406d7498c",
   "metadata": {},
   "source": [
    "# 3. Encoding Kolom Kategorikal\n",
    "\n",
    "## Mengubah kolom bertipe teks (kategorikal) menjadi angka agar dapat diproses oleh algoritma machine learning.\n",
    "## Menggunakan LabelEncoder untuk setiap kolom kategori."
   ]
  },
  {
   "cell_type": "code",
   "execution_count": 19,
   "id": "68e7c948-fdb3-4e6b-81c1-9c887ca9c15e",
   "metadata": {},
   "outputs": [
    {
     "name": "stdout",
     "output_type": "stream",
     "text": [
      "Kolom Kategorikal yang Dikonversi:\n",
      "['order_id', 'order_date', 'ship_date', 'ship_mode', 'customer_name', 'segment', 'state', 'country', 'market', 'region', 'product_id', 'category', 'sub_category', 'product_name', 'sales', 'order_priority']\n",
      "\n",
      "5 Data Teratas Setelah Encoding:\n"
     ]
    },
    {
     "data": {
      "text/html": [
       "<div>\n",
       "<style scoped>\n",
       "    .dataframe tbody tr th:only-of-type {\n",
       "        vertical-align: middle;\n",
       "    }\n",
       "\n",
       "    .dataframe tbody tr th {\n",
       "        vertical-align: top;\n",
       "    }\n",
       "\n",
       "    .dataframe thead th {\n",
       "        text-align: right;\n",
       "    }\n",
       "</style>\n",
       "<table border=\"1\" class=\"dataframe\">\n",
       "  <thead>\n",
       "    <tr style=\"text-align: right;\">\n",
       "      <th></th>\n",
       "      <th>order_id</th>\n",
       "      <th>order_date</th>\n",
       "      <th>ship_date</th>\n",
       "      <th>ship_mode</th>\n",
       "      <th>customer_name</th>\n",
       "      <th>segment</th>\n",
       "      <th>state</th>\n",
       "      <th>country</th>\n",
       "      <th>market</th>\n",
       "      <th>region</th>\n",
       "      <th>...</th>\n",
       "      <th>category</th>\n",
       "      <th>sub_category</th>\n",
       "      <th>product_name</th>\n",
       "      <th>sales</th>\n",
       "      <th>quantity</th>\n",
       "      <th>discount</th>\n",
       "      <th>profit</th>\n",
       "      <th>shipping_cost</th>\n",
       "      <th>order_priority</th>\n",
       "      <th>year</th>\n",
       "    </tr>\n",
       "  </thead>\n",
       "  <tbody>\n",
       "    <tr>\n",
       "      <th>1</th>\n",
       "      <td>7548</td>\n",
       "      <td>0</td>\n",
       "      <td>1366</td>\n",
       "      <td>3</td>\n",
       "      <td>398</td>\n",
       "      <td>0</td>\n",
       "      <td>574</td>\n",
       "      <td>6</td>\n",
       "      <td>0</td>\n",
       "      <td>9</td>\n",
       "      <td>...</td>\n",
       "      <td>1</td>\n",
       "      <td>15</td>\n",
       "      <td>157</td>\n",
       "      <td>24</td>\n",
       "      <td>0.148878</td>\n",
       "      <td>0.282149</td>\n",
       "      <td>2.244170</td>\n",
       "      <td>0.928738</td>\n",
       "      <td>3</td>\n",
       "      <td>-1.620693</td>\n",
       "    </tr>\n",
       "    <tr>\n",
       "      <th>2</th>\n",
       "      <td>6614</td>\n",
       "      <td>0</td>\n",
       "      <td>1220</td>\n",
       "      <td>2</td>\n",
       "      <td>48</td>\n",
       "      <td>0</td>\n",
       "      <td>140</td>\n",
       "      <td>55</td>\n",
       "      <td>3</td>\n",
       "      <td>5</td>\n",
       "      <td>...</td>\n",
       "      <td>1</td>\n",
       "      <td>14</td>\n",
       "      <td>2719</td>\n",
       "      <td>377</td>\n",
       "      <td>0.783769</td>\n",
       "      <td>-0.568293</td>\n",
       "      <td>1.693216</td>\n",
       "      <td>0.598565</td>\n",
       "      <td>1</td>\n",
       "      <td>-1.620693</td>\n",
       "    </tr>\n",
       "    <tr>\n",
       "      <th>4</th>\n",
       "      <td>7548</td>\n",
       "      <td>0</td>\n",
       "      <td>1366</td>\n",
       "      <td>3</td>\n",
       "      <td>398</td>\n",
       "      <td>0</td>\n",
       "      <td>574</td>\n",
       "      <td>6</td>\n",
       "      <td>0</td>\n",
       "      <td>9</td>\n",
       "      <td>...</td>\n",
       "      <td>0</td>\n",
       "      <td>9</td>\n",
       "      <td>1005</td>\n",
       "      <td>17</td>\n",
       "      <td>1.418661</td>\n",
       "      <td>0.282149</td>\n",
       "      <td>2.393537</td>\n",
       "      <td>-0.140598</td>\n",
       "      <td>3</td>\n",
       "      <td>-1.620693</td>\n",
       "    </tr>\n",
       "    <tr>\n",
       "      <th>5</th>\n",
       "      <td>7548</td>\n",
       "      <td>0</td>\n",
       "      <td>1366</td>\n",
       "      <td>3</td>\n",
       "      <td>398</td>\n",
       "      <td>0</td>\n",
       "      <td>574</td>\n",
       "      <td>6</td>\n",
       "      <td>0</td>\n",
       "      <td>9</td>\n",
       "      <td>...</td>\n",
       "      <td>1</td>\n",
       "      <td>12</td>\n",
       "      <td>924</td>\n",
       "      <td>354</td>\n",
       "      <td>-0.486014</td>\n",
       "      <td>0.282149</td>\n",
       "      <td>0.461581</td>\n",
       "      <td>-0.758342</td>\n",
       "      <td>3</td>\n",
       "      <td>-1.620693</td>\n",
       "    </tr>\n",
       "    <tr>\n",
       "      <th>16</th>\n",
       "      <td>9817</td>\n",
       "      <td>1009</td>\n",
       "      <td>1317</td>\n",
       "      <td>3</td>\n",
       "      <td>351</td>\n",
       "      <td>0</td>\n",
       "      <td>886</td>\n",
       "      <td>58</td>\n",
       "      <td>3</td>\n",
       "      <td>5</td>\n",
       "      <td>...</td>\n",
       "      <td>1</td>\n",
       "      <td>1</td>\n",
       "      <td>622</td>\n",
       "      <td>27</td>\n",
       "      <td>-0.486014</td>\n",
       "      <td>-0.568293</td>\n",
       "      <td>2.835437</td>\n",
       "      <td>0.649688</td>\n",
       "      <td>3</td>\n",
       "      <td>-1.620693</td>\n",
       "    </tr>\n",
       "  </tbody>\n",
       "</table>\n",
       "<p>5 rows × 21 columns</p>\n",
       "</div>"
      ],
      "text/plain": [
       "    order_id  order_date  ship_date  ship_mode  customer_name  segment  state  \\\n",
       "1       7548           0       1366          3            398        0    574   \n",
       "2       6614           0       1220          2             48        0    140   \n",
       "4       7548           0       1366          3            398        0    574   \n",
       "5       7548           0       1366          3            398        0    574   \n",
       "16      9817        1009       1317          3            351        0    886   \n",
       "\n",
       "    country  market  region  ...  category  sub_category  product_name  sales  \\\n",
       "1         6       0       9  ...         1            15           157     24   \n",
       "2        55       3       5  ...         1            14          2719    377   \n",
       "4         6       0       9  ...         0             9          1005     17   \n",
       "5         6       0       9  ...         1            12           924    354   \n",
       "16       58       3       5  ...         1             1           622     27   \n",
       "\n",
       "    quantity  discount    profit  shipping_cost  order_priority      year  \n",
       "1   0.148878  0.282149  2.244170       0.928738               3 -1.620693  \n",
       "2   0.783769 -0.568293  1.693216       0.598565               1 -1.620693  \n",
       "4   1.418661  0.282149  2.393537      -0.140598               3 -1.620693  \n",
       "5  -0.486014  0.282149  0.461581      -0.758342               3 -1.620693  \n",
       "16 -0.486014 -0.568293  2.835437       0.649688               3 -1.620693  \n",
       "\n",
       "[5 rows x 21 columns]"
      ]
     },
     "metadata": {},
     "output_type": "display_data"
    }
   ],
   "source": [
    "from sklearn.preprocessing import LabelEncoder\n",
    "\n",
    "# Mendeteksi kolom kategorikal\n",
    "cat_cols = df.select_dtypes(exclude=np.number).columns\n",
    "\n",
    "# Inisialisasi encoder\n",
    "encoder = LabelEncoder()\n",
    "\n",
    "# Encoding setiap kolom kategorikal\n",
    "for col in cat_cols:\n",
    "    df[col] = encoder.fit_transform(df[col])\n",
    "\n",
    "print(\"Kolom Kategorikal yang Dikonversi:\")\n",
    "print(list(cat_cols))\n",
    "print(\"\\n5 Data Teratas Setelah Encoding:\")\n",
    "display(df.head())"
   ]
  },
  {
   "cell_type": "markdown",
   "id": "3a61f442-1a91-4f0f-8458-cbfe8db975a2",
   "metadata": {},
   "source": [
    "# 4. Feature Engineering (Membuat Fitur Baru)\n",
    "\n",
    "## Menambahkan fitur baru yang dapat memperkaya informasi dataset.\n",
    "## Contohnya, membuat fitur discount_ratio yang menunjukkan perbandingan antara diskon dan jumlah barang."
   ]
  },
  {
   "cell_type": "code",
   "execution_count": 20,
   "id": "01ed1cfa-7eef-4e96-9bd0-adb96948d748",
   "metadata": {},
   "outputs": [
    {
     "name": "stdout",
     "output_type": "stream",
     "text": [
      "Fitur baru 'discount_ratio' berhasil ditambahkan!\n",
      "\n"
     ]
    },
    {
     "data": {
      "text/html": [
       "<div>\n",
       "<style scoped>\n",
       "    .dataframe tbody tr th:only-of-type {\n",
       "        vertical-align: middle;\n",
       "    }\n",
       "\n",
       "    .dataframe tbody tr th {\n",
       "        vertical-align: top;\n",
       "    }\n",
       "\n",
       "    .dataframe thead th {\n",
       "        text-align: right;\n",
       "    }\n",
       "</style>\n",
       "<table border=\"1\" class=\"dataframe\">\n",
       "  <thead>\n",
       "    <tr style=\"text-align: right;\">\n",
       "      <th></th>\n",
       "      <th>discount</th>\n",
       "      <th>quantity</th>\n",
       "      <th>discount_ratio</th>\n",
       "    </tr>\n",
       "  </thead>\n",
       "  <tbody>\n",
       "    <tr>\n",
       "      <th>1</th>\n",
       "      <td>0.282149</td>\n",
       "      <td>0.148878</td>\n",
       "      <td>0.245587</td>\n",
       "    </tr>\n",
       "    <tr>\n",
       "      <th>2</th>\n",
       "      <td>-0.568293</td>\n",
       "      <td>0.783769</td>\n",
       "      <td>-0.318591</td>\n",
       "    </tr>\n",
       "    <tr>\n",
       "      <th>4</th>\n",
       "      <td>0.282149</td>\n",
       "      <td>1.418661</td>\n",
       "      <td>0.116655</td>\n",
       "    </tr>\n",
       "    <tr>\n",
       "      <th>5</th>\n",
       "      <td>0.282149</td>\n",
       "      <td>-0.486014</td>\n",
       "      <td>0.548943</td>\n",
       "    </tr>\n",
       "    <tr>\n",
       "      <th>16</th>\n",
       "      <td>-0.568293</td>\n",
       "      <td>-0.486014</td>\n",
       "      <td>-1.105659</td>\n",
       "    </tr>\n",
       "  </tbody>\n",
       "</table>\n",
       "</div>"
      ],
      "text/plain": [
       "    discount  quantity  discount_ratio\n",
       "1   0.282149  0.148878        0.245587\n",
       "2  -0.568293  0.783769       -0.318591\n",
       "4   0.282149  1.418661        0.116655\n",
       "5   0.282149 -0.486014        0.548943\n",
       "16 -0.568293 -0.486014       -1.105659"
      ]
     },
     "metadata": {},
     "output_type": "display_data"
    }
   ],
   "source": [
    "# Membuat fitur baru 'discount_ratio'\n",
    "if 'discount' in df.columns and 'quantity' in df.columns:\n",
    "    df['discount_ratio'] = df['discount'] / (df['quantity'] + 1)\n",
    "    print(\"Fitur baru 'discount_ratio' berhasil ditambahkan!\\n\")\n",
    "    display(df[['discount', 'quantity', 'discount_ratio']].head())\n",
    "else:\n",
    "    print(\"Kolom 'discount' atau 'quantity' tidak ditemukan dalam dataset.\")"
   ]
  },
  {
   "cell_type": "markdown",
   "id": "43a30965-9b70-4e45-b858-3cb2cfb4bac1",
   "metadata": {},
   "source": [
    "# 5. Splitting Data Training & Testing\n",
    "\n",
    "## Memisahkan data menjadi dua bagian:\n",
    "\n",
    "## Training set (80%) → digunakan untuk melatih model\n",
    "\n",
    "## Testing set (20%) → digunakan untuk menguji performa model"
   ]
  },
  {
   "cell_type": "code",
   "execution_count": 21,
   "id": "ac5f1585-db34-4684-bd39-13511527160d",
   "metadata": {},
   "outputs": [
    {
     "name": "stdout",
     "output_type": "stream",
     "text": [
      "Ukuran Data:\n",
      "Training Data : (20558, 21)\n",
      "Testing Data  : (5140, 21)\n"
     ]
    }
   ],
   "source": [
    "from sklearn.model_selection import train_test_split\n",
    "\n",
    "# Pisahkan fitur (X) dan target (y)\n",
    "X = df.drop('sales', axis=1)\n",
    "y = df['sales']\n",
    "\n",
    "# Membagi data menjadi training dan testing\n",
    "X_train, X_test, y_train, y_test = train_test_split(\n",
    "    X, y, test_size=0.2, random_state=42\n",
    ")\n",
    "\n",
    "print(\"Ukuran Data:\")\n",
    "print(f\"Training Data : {X_train.shape}\")\n",
    "print(f\"Testing Data  : {X_test.shape}\")"
   ]
  },
  {
   "cell_type": "code",
   "execution_count": null,
   "id": "23cad58b-03d0-495c-b105-45e30b26ed26",
   "metadata": {},
   "outputs": [],
   "source": []
  }
 ],
 "metadata": {
  "kernelspec": {
   "display_name": "Python (posttest_env)",
   "language": "python",
   "name": "posttest_env"
  },
  "language_info": {
   "codemirror_mode": {
    "name": "ipython",
    "version": 3
   },
   "file_extension": ".py",
   "mimetype": "text/x-python",
   "name": "python",
   "nbconvert_exporter": "python",
   "pygments_lexer": "ipython3",
   "version": "3.13.8"
  }
 },
 "nbformat": 4,
 "nbformat_minor": 5
}
